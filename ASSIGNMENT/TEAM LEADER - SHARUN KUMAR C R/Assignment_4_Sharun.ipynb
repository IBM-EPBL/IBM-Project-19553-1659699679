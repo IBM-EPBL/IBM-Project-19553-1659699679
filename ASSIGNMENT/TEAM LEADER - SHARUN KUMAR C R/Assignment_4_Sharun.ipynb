{
 "cells": [
  {
   "cell_type": "markdown",
   "id": "bd05ec01",
   "metadata": {},
   "source": [
    "## IMPORT THE LIBRARIES"
   ]
  },
  {
   "cell_type": "code",
   "execution_count": 1,
   "id": "bc54bacf",
   "metadata": {},
   "outputs": [],
   "source": [
    "import pandas as pd\n",
    "import numpy as np\n",
    "import matplotlib.pyplot as plt\n",
    "import seaborn as sns"
   ]
  },
  {
   "cell_type": "markdown",
   "id": "175140ba",
   "metadata": {},
   "source": [
    "## IMPORT THE DATASET"
   ]
  },
  {
   "cell_type": "code",
   "execution_count": 2,
   "id": "457d25bf",
   "metadata": {},
   "outputs": [],
   "source": [
    "data = pd.read_csv(\"Mall_Customers.csv\")"
   ]
  },
  {
   "cell_type": "code",
   "execution_count": 3,
   "id": "ecf9e055",
   "metadata": {},
   "outputs": [
    {
     "data": {
      "text/html": [
       "<div>\n",
       "<style scoped>\n",
       "    .dataframe tbody tr th:only-of-type {\n",
       "        vertical-align: middle;\n",
       "    }\n",
       "\n",
       "    .dataframe tbody tr th {\n",
       "        vertical-align: top;\n",
       "    }\n",
       "\n",
       "    .dataframe thead th {\n",
       "        text-align: right;\n",
       "    }\n",
       "</style>\n",
       "<table border=\"1\" class=\"dataframe\">\n",
       "  <thead>\n",
       "    <tr style=\"text-align: right;\">\n",
       "      <th></th>\n",
       "      <th>0</th>\n",
       "      <th>1</th>\n",
       "      <th>2</th>\n",
       "      <th>3</th>\n",
       "      <th>4</th>\n",
       "    </tr>\n",
       "  </thead>\n",
       "  <tbody>\n",
       "    <tr>\n",
       "      <th>CustomerID</th>\n",
       "      <td>1</td>\n",
       "      <td>2</td>\n",
       "      <td>3</td>\n",
       "      <td>4</td>\n",
       "      <td>5</td>\n",
       "    </tr>\n",
       "    <tr>\n",
       "      <th>Gender</th>\n",
       "      <td>Male</td>\n",
       "      <td>Male</td>\n",
       "      <td>Female</td>\n",
       "      <td>Female</td>\n",
       "      <td>Female</td>\n",
       "    </tr>\n",
       "    <tr>\n",
       "      <th>Age</th>\n",
       "      <td>19</td>\n",
       "      <td>21</td>\n",
       "      <td>20</td>\n",
       "      <td>23</td>\n",
       "      <td>31</td>\n",
       "    </tr>\n",
       "    <tr>\n",
       "      <th>Annual Income (k$)</th>\n",
       "      <td>15</td>\n",
       "      <td>15</td>\n",
       "      <td>16</td>\n",
       "      <td>16</td>\n",
       "      <td>17</td>\n",
       "    </tr>\n",
       "    <tr>\n",
       "      <th>Spending Score (1-100)</th>\n",
       "      <td>39</td>\n",
       "      <td>81</td>\n",
       "      <td>6</td>\n",
       "      <td>77</td>\n",
       "      <td>40</td>\n",
       "    </tr>\n",
       "  </tbody>\n",
       "</table>\n",
       "</div>"
      ],
      "text/plain": [
       "                           0     1       2       3       4\n",
       "CustomerID                 1     2       3       4       5\n",
       "Gender                  Male  Male  Female  Female  Female\n",
       "Age                       19    21      20      23      31\n",
       "Annual Income (k$)        15    15      16      16      17\n",
       "Spending Score (1-100)    39    81       6      77      40"
      ]
     },
     "execution_count": 3,
     "metadata": {},
     "output_type": "execute_result"
    }
   ],
   "source": [
    "data.head().T"
   ]
  },
  {
   "cell_type": "code",
   "execution_count": 4,
   "id": "919de0d1",
   "metadata": {},
   "outputs": [
    {
     "data": {
      "text/html": [
       "<div>\n",
       "<style scoped>\n",
       "    .dataframe tbody tr th:only-of-type {\n",
       "        vertical-align: middle;\n",
       "    }\n",
       "\n",
       "    .dataframe tbody tr th {\n",
       "        vertical-align: top;\n",
       "    }\n",
       "\n",
       "    .dataframe thead th {\n",
       "        text-align: right;\n",
       "    }\n",
       "</style>\n",
       "<table border=\"1\" class=\"dataframe\">\n",
       "  <thead>\n",
       "    <tr style=\"text-align: right;\">\n",
       "      <th></th>\n",
       "      <th>195</th>\n",
       "      <th>196</th>\n",
       "      <th>197</th>\n",
       "      <th>198</th>\n",
       "      <th>199</th>\n",
       "    </tr>\n",
       "  </thead>\n",
       "  <tbody>\n",
       "    <tr>\n",
       "      <th>CustomerID</th>\n",
       "      <td>196</td>\n",
       "      <td>197</td>\n",
       "      <td>198</td>\n",
       "      <td>199</td>\n",
       "      <td>200</td>\n",
       "    </tr>\n",
       "    <tr>\n",
       "      <th>Gender</th>\n",
       "      <td>Female</td>\n",
       "      <td>Female</td>\n",
       "      <td>Male</td>\n",
       "      <td>Male</td>\n",
       "      <td>Male</td>\n",
       "    </tr>\n",
       "    <tr>\n",
       "      <th>Age</th>\n",
       "      <td>35</td>\n",
       "      <td>45</td>\n",
       "      <td>32</td>\n",
       "      <td>32</td>\n",
       "      <td>30</td>\n",
       "    </tr>\n",
       "    <tr>\n",
       "      <th>Annual Income (k$)</th>\n",
       "      <td>120</td>\n",
       "      <td>126</td>\n",
       "      <td>126</td>\n",
       "      <td>137</td>\n",
       "      <td>137</td>\n",
       "    </tr>\n",
       "    <tr>\n",
       "      <th>Spending Score (1-100)</th>\n",
       "      <td>79</td>\n",
       "      <td>28</td>\n",
       "      <td>74</td>\n",
       "      <td>18</td>\n",
       "      <td>83</td>\n",
       "    </tr>\n",
       "  </tbody>\n",
       "</table>\n",
       "</div>"
      ],
      "text/plain": [
       "                           195     196   197   198   199\n",
       "CustomerID                 196     197   198   199   200\n",
       "Gender                  Female  Female  Male  Male  Male\n",
       "Age                         35      45    32    32    30\n",
       "Annual Income (k$)         120     126   126   137   137\n",
       "Spending Score (1-100)      79      28    74    18    83"
      ]
     },
     "execution_count": 4,
     "metadata": {},
     "output_type": "execute_result"
    }
   ],
   "source": [
    "data.tail().T"
   ]
  },
  {
   "cell_type": "markdown",
   "id": "da552133",
   "metadata": {},
   "source": [
    "## EXPLORATORY DATA ANALYSIS"
   ]
  },
  {
   "cell_type": "code",
   "execution_count": 5,
   "id": "3c946653",
   "metadata": {},
   "outputs": [
    {
     "data": {
      "text/plain": [
       "(200, 5)"
      ]
     },
     "execution_count": 5,
     "metadata": {},
     "output_type": "execute_result"
    }
   ],
   "source": [
    "data.shape"
   ]
  },
  {
   "cell_type": "code",
   "execution_count": 6,
   "id": "68426619",
   "metadata": {},
   "outputs": [
    {
     "data": {
      "text/plain": [
       "CustomerID                 int64\n",
       "Gender                    object\n",
       "Age                        int64\n",
       "Annual Income (k$)         int64\n",
       "Spending Score (1-100)     int64\n",
       "dtype: object"
      ]
     },
     "execution_count": 6,
     "metadata": {},
     "output_type": "execute_result"
    }
   ],
   "source": [
    "data.dtypes"
   ]
  },
  {
   "cell_type": "code",
   "execution_count": 7,
   "id": "baf5f6ca",
   "metadata": {},
   "outputs": [
    {
     "name": "stdout",
     "output_type": "stream",
     "text": [
      "<class 'pandas.core.frame.DataFrame'>\n",
      "RangeIndex: 200 entries, 0 to 199\n",
      "Data columns (total 5 columns):\n",
      " #   Column                  Non-Null Count  Dtype \n",
      "---  ------                  --------------  ----- \n",
      " 0   CustomerID              200 non-null    int64 \n",
      " 1   Gender                  200 non-null    object\n",
      " 2   Age                     200 non-null    int64 \n",
      " 3   Annual Income (k$)      200 non-null    int64 \n",
      " 4   Spending Score (1-100)  200 non-null    int64 \n",
      "dtypes: int64(4), object(1)\n",
      "memory usage: 7.9+ KB\n"
     ]
    }
   ],
   "source": [
    "data.info()"
   ]
  },
  {
   "cell_type": "markdown",
   "id": "0d5b30ae",
   "metadata": {},
   "source": [
    "### Data visualisation"
   ]
  },
  {
   "cell_type": "markdown",
   "id": "20e10e19",
   "metadata": {},
   "source": [
    "#### univariate variables"
   ]
  },
  {
   "cell_type": "code",
   "execution_count": 8,
   "id": "638ff4cb",
   "metadata": {},
   "outputs": [
    {
     "data": {
      "text/plain": [
       "42    8\n",
       "55    7\n",
       "46    6\n",
       "73    6\n",
       "35    5\n",
       "     ..\n",
       "31    1\n",
       "44    1\n",
       "53    1\n",
       "65    1\n",
       "18    1\n",
       "Name: Spending Score (1-100), Length: 84, dtype: int64"
      ]
     },
     "execution_count": 8,
     "metadata": {},
     "output_type": "execute_result"
    },
    {
     "data": {
      "image/png": "[encoded data removed]",
      "text/plain": [
       "<Figure size 1440x576 with 1 Axes>"
      ]
     },
     "metadata": {
      "needs_background": "light"
     },
     "output_type": "display_data"
    }
   ],
   "source": [
    "plt.figure(figsize = (20,8))\n",
    "sns.countplot(x=data['Spending Score (1-100)'] )\n",
    "data['Spending Score (1-100)'].value_counts()"
   ]
  },
  {
   "cell_type": "code",
   "execution_count": 9,
   "id": "8a88e46d",
   "metadata": {},
   "outputs": [
    {
     "data": {
      "text/plain": [
       "<AxesSubplot:ylabel='Gender'>"
      ]
     },
     "execution_count": 9,
     "metadata": {},
     "output_type": "execute_result"
    },
    {
     "data": {
      "image/png": "[encoded data removed]",
      "text/plain": [
       "<Figure size 432x288 with 1 Axes>"
      ]
     },
     "metadata": {},
     "output_type": "display_data"
    }
   ],
   "source": [
    "data['Gender'].value_counts().plot(kind='pie',autopct='%.0f')"
   ]
  },
  {
   "cell_type": "code",
   "execution_count": 10,
   "id": "79b51e75",
   "metadata": {},
   "outputs": [
    {
     "data": {
      "text/plain": [
       "<AxesSubplot:xlabel='Spending Score (1-100)'>"
      ]
     },
     "execution_count": 10,
     "metadata": {},
     "output_type": "execute_result"
    },
    {
     "data": {
      "image/png": "[encoded data removed]",
      "text/plain": [
       "<Figure size 432x288 with 1 Axes>"
      ]
     },
     "metadata": {
      "needs_background": "light"
     },
     "output_type": "display_data"
    }
   ],
   "source": [
    "sns.boxplot(x = data['Spending Score (1-100)'])"
   ]
  },
  {
   "cell_type": "code",
   "execution_count": 11,
   "id": "db1fc813",
   "metadata": {},
   "outputs": [
    {
     "data": {
      "text/plain": [
       "<AxesSubplot:xlabel='Annual Income (k$)'>"
      ]
     },
     "execution_count": 11,
     "metadata": {},
     "output_type": "execute_result"
    },
    {
     "data": {
      "image/png": "[encoded data removed]",
      "text/plain": [
       "<Figure size 432x288 with 1 Axes>"
      ]
     },
     "metadata": {
      "needs_background": "light"
     },
     "output_type": "display_data"
    }
   ],
   "source": [
    "sns.boxplot(x = data['Annual Income (k$)'])"
   ]
  },
  {
   "cell_type": "markdown",
   "id": "a7c6e0c5",
   "metadata": {},
   "source": [
    "#### Bivariate analysis"
   ]
  },
  {
   "cell_type": "code",
   "execution_count": 12,
   "id": "d9cb7768",
   "metadata": {},
   "outputs": [
    {
     "data": {
      "text/plain": [
       "<AxesSubplot:xlabel='Spending Score (1-100)', ylabel='Annual Income (k$)'>"
      ]
     },
     "execution_count": 12,
     "metadata": {},
     "output_type": "execute_result"
    },
    {
     "data": {
      "image/png": "[encoded data removed]",
      "text/plain": [
       "<Figure size 1440x576 with 1 Axes>"
      ]
     },
     "metadata": {
      "needs_background": "light"
     },
     "output_type": "display_data"
    }
   ],
   "source": [
    "plt.figure(figsize = (20,8))\n",
    "sns.pointplot(x='Spending Score (1-100)',y='Annual Income (k$)',data=data)"
   ]
  },
  {
   "cell_type": "code",
   "execution_count": 13,
   "id": "29a09d6d",
   "metadata": {},
   "outputs": [
    {
     "data": {
      "text/plain": [
       "<seaborn.axisgrid.PairGrid at 0x1e0d4c2ed08>"
      ]
     },
     "execution_count": 13,
     "metadata": {},
     "output_type": "execute_result"
    },
    {
     "data": {
      "image/png": "[encoded data removed]",
      "text/plain": [
       "<Figure size 540x540 with 12 Axes>"
      ]
     },
     "metadata": {
      "needs_background": "light"
     },
     "output_type": "display_data"
    }
   ],
   "source": [
    "sns.pairplot(data.iloc[:,1:])"
   ]
  },
  {
   "cell_type": "markdown",
   "id": "e25a81c0",
   "metadata": {},
   "source": [
    "#### Multivariate analysis"
   ]
  },
  {
   "cell_type": "code",
   "execution_count": 14,
   "id": "e32ebcc7",
   "metadata": {},
   "outputs": [
    {
     "data": {
      "text/plain": [
       "<AxesSubplot:xlabel='Age', ylabel='Spending Score (1-100)'>"
      ]
     },
     "execution_count": 14,
     "metadata": {},
     "output_type": "execute_result"
    },
    {
     "data": {
      "image/png": "[encoded data removed]",
      "text/plain": [
       "<Figure size 432x288 with 1 Axes>"
      ]
     },
     "metadata": {
      "needs_background": "light"
     },
     "output_type": "display_data"
    }
   ],
   "source": [
    "sns.scatterplot(x='Age',y='Spending Score (1-100)',data=data,hue='Gender')"
   ]
  },
  {
   "cell_type": "markdown",
   "id": "29c30830",
   "metadata": {},
   "source": [
    "### check for duplicate values"
   ]
  },
  {
   "cell_type": "code",
   "execution_count": 15,
   "id": "72f9f672",
   "metadata": {},
   "outputs": [
    {
     "data": {
      "text/plain": [
       "0"
      ]
     },
     "execution_count": 15,
     "metadata": {},
     "output_type": "execute_result"
    }
   ],
   "source": [
    "data.duplicated().sum()"
   ]
  },
  {
   "cell_type": "code",
   "execution_count": 16,
   "id": "963cf8ac",
   "metadata": {},
   "outputs": [
    {
     "data": {
      "text/plain": [
       "CustomerID                0\n",
       "Gender                    0\n",
       "Age                       0\n",
       "Annual Income (k$)        0\n",
       "Spending Score (1-100)    0\n",
       "dtype: int64"
      ]
     },
     "execution_count": 16,
     "metadata": {},
     "output_type": "execute_result"
    }
   ],
   "source": [
    "data.isna().sum()"
   ]
  },
  {
   "cell_type": "code",
   "execution_count": 17,
   "id": "9371edb4",
   "metadata": {},
   "outputs": [
    {
     "data": {
      "text/plain": [
       "Index(['CustomerID', 'Gender', 'Age', 'Annual Income (k$)',\n",
       "       'Spending Score (1-100)'],\n",
       "      dtype='object')"
      ]
     },
     "execution_count": 17,
     "metadata": {},
     "output_type": "execute_result"
    }
   ],
   "source": [
    "data.columns"
   ]
  },
  {
   "cell_type": "markdown",
   "id": "a6b6d06f",
   "metadata": {},
   "source": [
    "### check for missing values"
   ]
  },
  {
   "cell_type": "code",
   "execution_count": 18,
   "id": "77522b85",
   "metadata": {},
   "outputs": [
    {
     "data": {
      "text/html": [
       "<div>\n",
       "<style scoped>\n",
       "    .dataframe tbody tr th:only-of-type {\n",
       "        vertical-align: middle;\n",
       "    }\n",
       "\n",
       "    .dataframe tbody tr th {\n",
       "        vertical-align: top;\n",
       "    }\n",
       "\n",
       "    .dataframe thead th {\n",
       "        text-align: right;\n",
       "    }\n",
       "</style>\n",
       "<table border=\"1\" class=\"dataframe\">\n",
       "  <thead>\n",
       "    <tr style=\"text-align: right;\">\n",
       "      <th></th>\n",
       "      <th>count</th>\n",
       "      <th>mean</th>\n",
       "      <th>std</th>\n",
       "      <th>min</th>\n",
       "      <th>25%</th>\n",
       "      <th>50%</th>\n",
       "      <th>75%</th>\n",
       "      <th>max</th>\n",
       "    </tr>\n",
       "  </thead>\n",
       "  <tbody>\n",
       "    <tr>\n",
       "      <th>CustomerID</th>\n",
       "      <td>200.0</td>\n",
       "      <td>100.50</td>\n",
       "      <td>57.879185</td>\n",
       "      <td>1.0</td>\n",
       "      <td>50.75</td>\n",
       "      <td>100.5</td>\n",
       "      <td>150.25</td>\n",
       "      <td>200.0</td>\n",
       "    </tr>\n",
       "    <tr>\n",
       "      <th>Age</th>\n",
       "      <td>200.0</td>\n",
       "      <td>38.85</td>\n",
       "      <td>13.969007</td>\n",
       "      <td>18.0</td>\n",
       "      <td>28.75</td>\n",
       "      <td>36.0</td>\n",
       "      <td>49.00</td>\n",
       "      <td>70.0</td>\n",
       "    </tr>\n",
       "    <tr>\n",
       "      <th>Annual Income (k$)</th>\n",
       "      <td>200.0</td>\n",
       "      <td>60.56</td>\n",
       "      <td>26.264721</td>\n",
       "      <td>15.0</td>\n",
       "      <td>41.50</td>\n",
       "      <td>61.5</td>\n",
       "      <td>78.00</td>\n",
       "      <td>137.0</td>\n",
       "    </tr>\n",
       "    <tr>\n",
       "      <th>Spending Score (1-100)</th>\n",
       "      <td>200.0</td>\n",
       "      <td>50.20</td>\n",
       "      <td>25.823522</td>\n",
       "      <td>1.0</td>\n",
       "      <td>34.75</td>\n",
       "      <td>50.0</td>\n",
       "      <td>73.00</td>\n",
       "      <td>99.0</td>\n",
       "    </tr>\n",
       "  </tbody>\n",
       "</table>\n",
       "</div>"
      ],
      "text/plain": [
       "                        count    mean        std   min    25%    50%     75%  \\\n",
       "CustomerID              200.0  100.50  57.879185   1.0  50.75  100.5  150.25   \n",
       "Age                     200.0   38.85  13.969007  18.0  28.75   36.0   49.00   \n",
       "Annual Income (k$)      200.0   60.56  26.264721  15.0  41.50   61.5   78.00   \n",
       "Spending Score (1-100)  200.0   50.20  25.823522   1.0  34.75   50.0   73.00   \n",
       "\n",
       "                          max  \n",
       "CustomerID              200.0  \n",
       "Age                      70.0  \n",
       "Annual Income (k$)      137.0  \n",
       "Spending Score (1-100)   99.0  "
      ]
     },
     "execution_count": 18,
     "metadata": {},
     "output_type": "execute_result"
    }
   ],
   "source": [
    "data.describe().T"
   ]
  },
  {
   "cell_type": "code",
   "execution_count": 19,
   "id": "b4bb9d93",
   "metadata": {},
   "outputs": [
    {
     "data": {
      "text/html": [
       "<div>\n",
       "<style scoped>\n",
       "    .dataframe tbody tr th:only-of-type {\n",
       "        vertical-align: middle;\n",
       "    }\n",
       "\n",
       "    .dataframe tbody tr th {\n",
       "        vertical-align: top;\n",
       "    }\n",
       "\n",
       "    .dataframe thead th {\n",
       "        text-align: right;\n",
       "    }\n",
       "</style>\n",
       "<table border=\"1\" class=\"dataframe\">\n",
       "  <thead>\n",
       "    <tr style=\"text-align: right;\">\n",
       "      <th></th>\n",
       "      <th>CustomerID</th>\n",
       "      <th>Age</th>\n",
       "      <th>Annual Income (k$)</th>\n",
       "      <th>Spending Score (1-100)</th>\n",
       "    </tr>\n",
       "  </thead>\n",
       "  <tbody>\n",
       "    <tr>\n",
       "      <th>CustomerID</th>\n",
       "      <td>1.000000</td>\n",
       "      <td>-0.026763</td>\n",
       "      <td>0.977548</td>\n",
       "      <td>0.013835</td>\n",
       "    </tr>\n",
       "    <tr>\n",
       "      <th>Age</th>\n",
       "      <td>-0.026763</td>\n",
       "      <td>1.000000</td>\n",
       "      <td>-0.012398</td>\n",
       "      <td>-0.327227</td>\n",
       "    </tr>\n",
       "    <tr>\n",
       "      <th>Annual Income (k$)</th>\n",
       "      <td>0.977548</td>\n",
       "      <td>-0.012398</td>\n",
       "      <td>1.000000</td>\n",
       "      <td>0.009903</td>\n",
       "    </tr>\n",
       "    <tr>\n",
       "      <th>Spending Score (1-100)</th>\n",
       "      <td>0.013835</td>\n",
       "      <td>-0.327227</td>\n",
       "      <td>0.009903</td>\n",
       "      <td>1.000000</td>\n",
       "    </tr>\n",
       "  </tbody>\n",
       "</table>\n",
       "</div>"
      ],
      "text/plain": [
       "                        CustomerID       Age  Annual Income (k$)  \\\n",
       "CustomerID                1.000000 -0.026763            0.977548   \n",
       "Age                      -0.026763  1.000000           -0.012398   \n",
       "Annual Income (k$)        0.977548 -0.012398            1.000000   \n",
       "Spending Score (1-100)    0.013835 -0.327227            0.009903   \n",
       "\n",
       "                        Spending Score (1-100)  \n",
       "CustomerID                            0.013835  \n",
       "Age                                  -0.327227  \n",
       "Annual Income (k$)                    0.009903  \n",
       "Spending Score (1-100)                1.000000  "
      ]
     },
     "execution_count": 19,
     "metadata": {},
     "output_type": "execute_result"
    }
   ],
   "source": [
    "data.corr()"
   ]
  },
  {
   "cell_type": "code",
   "execution_count": 20,
   "id": "b0bc23d0",
   "metadata": {},
   "outputs": [
    {
     "data": {
      "text/plain": [
       "<AxesSubplot:>"
      ]
     },
     "execution_count": 20,
     "metadata": {},
     "output_type": "execute_result"
    },
    {
     "data": {
      "image/png": "[encoded data removed]",
      "text/plain": [
       "<Figure size 432x288 with 2 Axes>"
      ]
     },
     "metadata": {
      "needs_background": "light"
     },
     "output_type": "display_data"
    }
   ],
   "source": [
    "sns.heatmap(data.corr(), annot=True)"
   ]
  },
  {
   "cell_type": "markdown",
   "id": "8f9c4092",
   "metadata": {},
   "source": [
    "# SCALING"
   ]
  },
  {
   "cell_type": "code",
   "execution_count": 21,
   "id": "a3bba812",
   "metadata": {},
   "outputs": [],
   "source": [
    "from sklearn.preprocessing import MinMaxScaler\n",
    "mms = MinMaxScaler()\n",
    "ndataset = data.iloc[:,2:]\n",
    "ndataset = mms.fit_transform(ndataset)"
   ]
  },
  {
   "cell_type": "code",
   "execution_count": 22,
   "id": "887796f1",
   "metadata": {
    "scrolled": false
   },
   "outputs": [
    {
     "data": {
      "text/plain": [
       "array([[0.01923077, 0.        , 0.3877551 ],\n",
       "       [0.05769231, 0.        , 0.81632653],\n",
       "       [0.03846154, 0.00819672, 0.05102041],\n",
       "       [0.09615385, 0.00819672, 0.7755102 ],\n",
       "       [0.25      , 0.01639344, 0.39795918],\n",
       "       [0.07692308, 0.01639344, 0.76530612],\n",
       "       [0.32692308, 0.02459016, 0.05102041],\n",
       "       [0.09615385, 0.02459016, 0.94897959],\n",
       "       [0.88461538, 0.03278689, 0.02040816],\n",
       "       [0.23076923, 0.03278689, 0.7244898 ],\n",
       "       [0.94230769, 0.03278689, 0.13265306],\n",
       "       [0.32692308, 0.03278689, 1.        ],\n",
       "       [0.76923077, 0.04098361, 0.14285714],\n",
       "       [0.11538462, 0.04098361, 0.7755102 ],\n",
       "       [0.36538462, 0.04098361, 0.12244898],\n",
       "       [0.07692308, 0.04098361, 0.79591837],\n",
       "       [0.32692308, 0.04918033, 0.34693878],\n",
       "       [0.03846154, 0.04918033, 0.66326531],\n",
       "       [0.65384615, 0.06557377, 0.28571429],\n",
       "       [0.32692308, 0.06557377, 0.98979592],\n",
       "       [0.32692308, 0.07377049, 0.34693878],\n",
       "       [0.13461538, 0.07377049, 0.73469388],\n",
       "       [0.53846154, 0.08196721, 0.04081633],\n",
       "       [0.25      , 0.08196721, 0.73469388],\n",
       "       [0.69230769, 0.10655738, 0.13265306],\n",
       "       [0.21153846, 0.10655738, 0.82653061],\n",
       "       [0.51923077, 0.10655738, 0.31632653],\n",
       "       [0.32692308, 0.10655738, 0.6122449 ],\n",
       "       [0.42307692, 0.1147541 , 0.30612245],\n",
       "       [0.09615385, 0.1147541 , 0.87755102],\n",
       "       [0.80769231, 0.12295082, 0.03061224],\n",
       "       [0.05769231, 0.12295082, 0.73469388],\n",
       "       [0.67307692, 0.14754098, 0.03061224],\n",
       "       [0.        , 0.14754098, 0.92857143],\n",
       "       [0.59615385, 0.14754098, 0.13265306],\n",
       "       [0.05769231, 0.14754098, 0.81632653],\n",
       "       [0.46153846, 0.1557377 , 0.16326531],\n",
       "       [0.23076923, 0.1557377 , 0.73469388],\n",
       "       [0.34615385, 0.18032787, 0.25510204],\n",
       "       [0.03846154, 0.18032787, 0.75510204],\n",
       "       [0.90384615, 0.18852459, 0.34693878],\n",
       "       [0.11538462, 0.18852459, 0.92857143],\n",
       "       [0.57692308, 0.19672131, 0.35714286],\n",
       "       [0.25      , 0.19672131, 0.6122449 ],\n",
       "       [0.59615385, 0.19672131, 0.2755102 ],\n",
       "       [0.11538462, 0.19672131, 0.65306122],\n",
       "       [0.61538462, 0.20491803, 0.55102041],\n",
       "       [0.17307692, 0.20491803, 0.46938776],\n",
       "       [0.21153846, 0.20491803, 0.41836735],\n",
       "       [0.25      , 0.20491803, 0.41836735],\n",
       "       [0.59615385, 0.22131148, 0.52040816],\n",
       "       [0.28846154, 0.22131148, 0.60204082],\n",
       "       [0.25      , 0.2295082 , 0.54081633],\n",
       "       [0.78846154, 0.2295082 , 0.60204082],\n",
       "       [0.61538462, 0.2295082 , 0.44897959],\n",
       "       [0.55769231, 0.2295082 , 0.40816327],\n",
       "       [0.63461538, 0.23770492, 0.5       ],\n",
       "       [0.98076923, 0.23770492, 0.45918367],\n",
       "       [0.17307692, 0.25409836, 0.51020408],\n",
       "       [0.67307692, 0.25409836, 0.45918367],\n",
       "       [1.        , 0.25409836, 0.56122449],\n",
       "       [0.01923077, 0.25409836, 0.55102041],\n",
       "       [0.94230769, 0.26229508, 0.52040816],\n",
       "       [0.69230769, 0.26229508, 0.59183673],\n",
       "       [0.86538462, 0.2704918 , 0.51020408],\n",
       "       [0.        , 0.2704918 , 0.59183673],\n",
       "       [0.48076923, 0.2704918 , 0.5       ],\n",
       "       [0.96153846, 0.2704918 , 0.47959184],\n",
       "       [0.01923077, 0.2704918 , 0.59183673],\n",
       "       [0.26923077, 0.2704918 , 0.46938776],\n",
       "       [1.        , 0.27868852, 0.55102041],\n",
       "       [0.55769231, 0.27868852, 0.41836735],\n",
       "       [0.80769231, 0.28688525, 0.48979592],\n",
       "       [0.80769231, 0.28688525, 0.56122449],\n",
       "       [0.78846154, 0.31967213, 0.46938776],\n",
       "       [0.15384615, 0.31967213, 0.54081633],\n",
       "       [0.51923077, 0.31967213, 0.53061224],\n",
       "       [0.42307692, 0.31967213, 0.47959184],\n",
       "       [0.09615385, 0.31967213, 0.52040816],\n",
       "       [0.59615385, 0.31967213, 0.41836735],\n",
       "       [0.75      , 0.31967213, 0.51020408],\n",
       "       [0.38461538, 0.31967213, 0.55102041],\n",
       "       [0.94230769, 0.31967213, 0.40816327],\n",
       "       [0.53846154, 0.31967213, 0.43877551],\n",
       "       [0.05769231, 0.31967213, 0.57142857],\n",
       "       [0.57692308, 0.31967213, 0.45918367],\n",
       "       [0.71153846, 0.3442623 , 0.58163265],\n",
       "       [0.07692308, 0.3442623 , 0.55102041],\n",
       "       [0.30769231, 0.35245902, 0.60204082],\n",
       "       [0.61538462, 0.35245902, 0.45918367],\n",
       "       [0.96153846, 0.36065574, 0.55102041],\n",
       "       [0.        , 0.36065574, 0.40816327],\n",
       "       [0.57692308, 0.36885246, 0.48979592],\n",
       "       [0.42307692, 0.36885246, 0.39795918],\n",
       "       [0.26923077, 0.36885246, 0.41836735],\n",
       "       [0.11538462, 0.36885246, 0.52040816],\n",
       "       [0.55769231, 0.36885246, 0.46938776],\n",
       "       [0.17307692, 0.36885246, 0.5       ],\n",
       "       [0.57692308, 0.37704918, 0.41836735],\n",
       "       [0.03846154, 0.37704918, 0.48979592],\n",
       "       [0.09615385, 0.3852459 , 0.40816327],\n",
       "       [0.59615385, 0.3852459 , 0.47959184],\n",
       "       [0.94230769, 0.3852459 , 0.59183673],\n",
       "       [0.15384615, 0.3852459 , 0.55102041],\n",
       "       [0.59615385, 0.3852459 , 0.56122449],\n",
       "       [0.05769231, 0.3852459 , 0.41836735],\n",
       "       [0.92307692, 0.39344262, 0.5       ],\n",
       "       [0.69230769, 0.39344262, 0.45918367],\n",
       "       [0.96153846, 0.39344262, 0.42857143],\n",
       "       [0.92307692, 0.39344262, 0.47959184],\n",
       "       [0.90384615, 0.39344262, 0.52040816],\n",
       "       [0.01923077, 0.39344262, 0.54081633],\n",
       "       [0.38461538, 0.40163934, 0.41836735],\n",
       "       [0.01923077, 0.40163934, 0.45918367],\n",
       "       [0.        , 0.40983607, 0.47959184],\n",
       "       [0.01923077, 0.40983607, 0.5       ],\n",
       "       [0.86538462, 0.40983607, 0.42857143],\n",
       "       [0.59615385, 0.40983607, 0.59183673],\n",
       "       [0.63461538, 0.42622951, 0.42857143],\n",
       "       [0.61538462, 0.42622951, 0.57142857],\n",
       "       [0.17307692, 0.42622951, 0.56122449],\n",
       "       [0.38461538, 0.42622951, 0.39795918],\n",
       "       [0.42307692, 0.44262295, 0.58163265],\n",
       "       [0.40384615, 0.44262295, 0.91836735],\n",
       "       [0.09615385, 0.45081967, 0.28571429],\n",
       "       [0.25      , 0.45081967, 0.7755102 ],\n",
       "       [0.48076923, 0.45901639, 0.34693878],\n",
       "       [0.42307692, 0.45901639, 0.95918367],\n",
       "       [0.78846154, 0.45901639, 0.10204082],\n",
       "       [0.38461538, 0.45901639, 0.75510204],\n",
       "       [0.55769231, 0.45901639, 0.08163265],\n",
       "       [0.40384615, 0.45901639, 0.75510204],\n",
       "       [0.13461538, 0.46721311, 0.33673469],\n",
       "       [0.25      , 0.46721311, 0.71428571],\n",
       "       [0.03846154, 0.47540984, 0.04081633],\n",
       "       [0.21153846, 0.47540984, 0.8877551 ],\n",
       "       [0.5       , 0.47540984, 0.06122449],\n",
       "       [0.26923077, 0.47540984, 0.73469388],\n",
       "       [0.01923077, 0.48360656, 0.09183673],\n",
       "       [0.32692308, 0.48360656, 0.7244898 ],\n",
       "       [0.75      , 0.49180328, 0.04081633],\n",
       "       [0.26923077, 0.49180328, 0.93877551],\n",
       "       [0.19230769, 0.5       , 0.39795918],\n",
       "       [0.26923077, 0.5       , 0.87755102],\n",
       "       [0.13461538, 0.50819672, 0.1122449 ],\n",
       "       [0.19230769, 0.50819672, 0.97959184],\n",
       "       [0.57692308, 0.50819672, 0.35714286],\n",
       "       [0.26923077, 0.50819672, 0.74489796],\n",
       "       [0.30769231, 0.51639344, 0.21428571],\n",
       "       [0.30769231, 0.51639344, 0.90816327],\n",
       "       [0.48076923, 0.51639344, 0.16326531],\n",
       "       [0.40384615, 0.51639344, 0.8877551 ],\n",
       "       [0.5       , 0.51639344, 0.19387755],\n",
       "       [0.38461538, 0.51639344, 0.76530612],\n",
       "       [0.55769231, 0.51639344, 0.15306122],\n",
       "       [0.17307692, 0.51639344, 0.89795918],\n",
       "       [0.36538462, 0.51639344, 0.        ],\n",
       "       [0.23076923, 0.51639344, 0.78571429],\n",
       "       [0.30769231, 0.51639344, 0.        ],\n",
       "       [0.23076923, 0.51639344, 0.73469388],\n",
       "       [0.73076923, 0.52459016, 0.34693878],\n",
       "       [0.21153846, 0.52459016, 0.83673469],\n",
       "       [0.01923077, 0.54098361, 0.04081633],\n",
       "       [0.25      , 0.54098361, 0.93877551],\n",
       "       [0.61538462, 0.57377049, 0.25510204],\n",
       "       [0.34615385, 0.57377049, 0.75510204],\n",
       "       [0.46153846, 0.58196721, 0.19387755],\n",
       "       [0.28846154, 0.58196721, 0.95918367],\n",
       "       [0.34615385, 0.59016393, 0.26530612],\n",
       "       [0.26923077, 0.59016393, 0.63265306],\n",
       "       [0.42307692, 0.59016393, 0.12244898],\n",
       "       [0.19230769, 0.59016393, 0.75510204],\n",
       "       [0.34615385, 0.59016393, 0.09183673],\n",
       "       [0.34615385, 0.59016393, 0.92857143],\n",
       "       [0.65384615, 0.59836066, 0.12244898],\n",
       "       [0.23076923, 0.59836066, 0.86734694],\n",
       "       [0.76923077, 0.59836066, 0.14285714],\n",
       "       [0.17307692, 0.59836066, 0.69387755],\n",
       "       [0.78846154, 0.63934426, 0.13265306],\n",
       "       [0.32692308, 0.63934426, 0.90816327],\n",
       "       [0.36538462, 0.67213115, 0.31632653],\n",
       "       [0.26923077, 0.67213115, 0.86734694],\n",
       "       [0.53846154, 0.68032787, 0.14285714],\n",
       "       [0.21153846, 0.68032787, 0.8877551 ],\n",
       "       [0.44230769, 0.68852459, 0.3877551 ],\n",
       "       [0.23076923, 0.68852459, 0.97959184],\n",
       "       [0.69230769, 0.70491803, 0.23469388],\n",
       "       [0.19230769, 0.70491803, 0.68367347],\n",
       "       [0.44230769, 0.72131148, 0.16326531],\n",
       "       [0.34615385, 0.72131148, 0.85714286],\n",
       "       [0.30769231, 0.72131148, 0.2244898 ],\n",
       "       [0.26923077, 0.72131148, 0.69387755],\n",
       "       [0.28846154, 0.80327869, 0.07142857],\n",
       "       [0.38461538, 0.80327869, 0.91836735],\n",
       "       [0.55769231, 0.86065574, 0.15306122],\n",
       "       [0.32692308, 0.86065574, 0.79591837],\n",
       "       [0.51923077, 0.90983607, 0.2755102 ],\n",
       "       [0.26923077, 0.90983607, 0.74489796],\n",
       "       [0.26923077, 1.        , 0.17346939],\n",
       "       [0.23076923, 1.        , 0.83673469]])"
      ]
     },
     "execution_count": 22,
     "metadata": {},
     "output_type": "execute_result"
    }
   ],
   "source": [
    "ndataset"
   ]
  },
  {
   "cell_type": "markdown",
   "id": "bdde6379",
   "metadata": {},
   "source": [
    "## Kmeans clustering algorithm "
   ]
  },
  {
   "cell_type": "code",
   "execution_count": 23,
   "id": "8acc589e",
   "metadata": {},
   "outputs": [],
   "source": [
    "from sklearn.cluster import KMeans\n",
    "TWSS = []\n",
    "k = list(range(2,9))\n",
    "\n",
    "for i in k:\n",
    "    kmeans = KMeans(n_clusters=i, init = 'k-means++')\n",
    "    kmeans.fit(ndataset)\n",
    "    TWSS.append(kmeans.inertia_)"
   ]
  },
  {
   "cell_type": "code",
   "execution_count": 24,
   "id": "d14c53ed",
   "metadata": {},
   "outputs": [
    {
     "data": {
      "text/plain": [
       "[22.56077488260975,\n",
       " 17.370109472896694,\n",
       " 12.65028767622991,\n",
       " 10.303964892534122,\n",
       " 8.385099035848988,\n",
       " 7.14021543303523,\n",
       " 6.338804281532605]"
      ]
     },
     "execution_count": 24,
     "metadata": {},
     "output_type": "execute_result"
    }
   ],
   "source": [
    "TWSS"
   ]
  },
  {
   "cell_type": "code",
   "execution_count": 25,
   "id": "9f404bed",
   "metadata": {},
   "outputs": [
    {
     "data": {
      "text/plain": [
       "Text(0, 0.5, 'TWSS')"
      ]
     },
     "execution_count": 25,
     "metadata": {},
     "output_type": "execute_result"
    },
    {
     "data": {
      "image/png": "[encoded data removed]",
      "text/plain": [
       "<Figure size 432x288 with 1 Axes>"
      ]
     },
     "metadata": {
      "needs_background": "light"
     },
     "output_type": "display_data"
    }
   ],
   "source": [
    "plt.plot(k,TWSS,'ro--')\n",
    "plt.xlabel('no of cluster')\n",
    "plt.ylabel('TWSS')"
   ]
  },
  {
   "cell_type": "code",
   "execution_count": 26,
   "id": "37236413",
   "metadata": {},
   "outputs": [
    {
     "data": {
      "text/plain": [
       "KMeans(n_clusters=4)"
      ]
     },
     "execution_count": 26,
     "metadata": {},
     "output_type": "execute_result"
    }
   ],
   "source": [
    "model = KMeans(n_clusters=4)\n",
    "model.fit(ndataset)"
   ]
  },
  {
   "cell_type": "code",
   "execution_count": 27,
   "id": "100e3eac",
   "metadata": {},
   "outputs": [],
   "source": [
    "mb = pd.Series(model.labels_)"
   ]
  },
  {
   "cell_type": "code",
   "execution_count": 28,
   "id": "66ba5a3f",
   "metadata": {},
   "outputs": [],
   "source": [
    "data['clust'] = mb"
   ]
  },
  {
   "cell_type": "code",
   "execution_count": 29,
   "id": "f76289bd",
   "metadata": {},
   "outputs": [
    {
     "data": {
      "text/html": [
       "<div>\n",
       "<style scoped>\n",
       "    .dataframe tbody tr th:only-of-type {\n",
       "        vertical-align: middle;\n",
       "    }\n",
       "\n",
       "    .dataframe tbody tr th {\n",
       "        vertical-align: top;\n",
       "    }\n",
       "\n",
       "    .dataframe thead th {\n",
       "        text-align: right;\n",
       "    }\n",
       "</style>\n",
       "<table border=\"1\" class=\"dataframe\">\n",
       "  <thead>\n",
       "    <tr style=\"text-align: right;\">\n",
       "      <th></th>\n",
       "      <th>CustomerID</th>\n",
       "      <th>Gender</th>\n",
       "      <th>Age</th>\n",
       "      <th>Annual Income (k$)</th>\n",
       "      <th>Spending Score (1-100)</th>\n",
       "      <th>clust</th>\n",
       "    </tr>\n",
       "  </thead>\n",
       "  <tbody>\n",
       "    <tr>\n",
       "      <th>0</th>\n",
       "      <td>1</td>\n",
       "      <td>Male</td>\n",
       "      <td>19</td>\n",
       "      <td>15</td>\n",
       "      <td>39</td>\n",
       "      <td>3</td>\n",
       "    </tr>\n",
       "    <tr>\n",
       "      <th>1</th>\n",
       "      <td>2</td>\n",
       "      <td>Male</td>\n",
       "      <td>21</td>\n",
       "      <td>15</td>\n",
       "      <td>81</td>\n",
       "      <td>3</td>\n",
       "    </tr>\n",
       "    <tr>\n",
       "      <th>2</th>\n",
       "      <td>3</td>\n",
       "      <td>Female</td>\n",
       "      <td>20</td>\n",
       "      <td>16</td>\n",
       "      <td>6</td>\n",
       "      <td>3</td>\n",
       "    </tr>\n",
       "    <tr>\n",
       "      <th>3</th>\n",
       "      <td>4</td>\n",
       "      <td>Female</td>\n",
       "      <td>23</td>\n",
       "      <td>16</td>\n",
       "      <td>77</td>\n",
       "      <td>3</td>\n",
       "    </tr>\n",
       "    <tr>\n",
       "      <th>4</th>\n",
       "      <td>5</td>\n",
       "      <td>Female</td>\n",
       "      <td>31</td>\n",
       "      <td>17</td>\n",
       "      <td>40</td>\n",
       "      <td>3</td>\n",
       "    </tr>\n",
       "  </tbody>\n",
       "</table>\n",
       "</div>"
      ],
      "text/plain": [
       "   CustomerID  Gender  Age  Annual Income (k$)  Spending Score (1-100)  clust\n",
       "0           1    Male   19                  15                      39      3\n",
       "1           2    Male   21                  15                      81      3\n",
       "2           3  Female   20                  16                       6      3\n",
       "3           4  Female   23                  16                      77      3\n",
       "4           5  Female   31                  17                      40      3"
      ]
     },
     "execution_count": 29,
     "metadata": {},
     "output_type": "execute_result"
    }
   ],
   "source": [
    "data.head()"
   ]
  },
  {
   "cell_type": "code",
   "execution_count": 30,
   "id": "ec225c5f",
   "metadata": {},
   "outputs": [
    {
     "data": {
      "text/html": [
       "<div>\n",
       "<style scoped>\n",
       "    .dataframe tbody tr th:only-of-type {\n",
       "        vertical-align: middle;\n",
       "    }\n",
       "\n",
       "    .dataframe tbody tr th {\n",
       "        vertical-align: top;\n",
       "    }\n",
       "\n",
       "    .dataframe thead th {\n",
       "        text-align: right;\n",
       "    }\n",
       "</style>\n",
       "<table border=\"1\" class=\"dataframe\">\n",
       "  <thead>\n",
       "    <tr style=\"text-align: right;\">\n",
       "      <th></th>\n",
       "      <th>CustomerID</th>\n",
       "      <th>Gender</th>\n",
       "      <th>Age</th>\n",
       "      <th>Annual Income (k$)</th>\n",
       "      <th>Spending Score (1-100)</th>\n",
       "      <th>clust</th>\n",
       "    </tr>\n",
       "  </thead>\n",
       "  <tbody>\n",
       "    <tr>\n",
       "      <th>195</th>\n",
       "      <td>196</td>\n",
       "      <td>Female</td>\n",
       "      <td>35</td>\n",
       "      <td>120</td>\n",
       "      <td>79</td>\n",
       "      <td>1</td>\n",
       "    </tr>\n",
       "    <tr>\n",
       "      <th>196</th>\n",
       "      <td>197</td>\n",
       "      <td>Female</td>\n",
       "      <td>45</td>\n",
       "      <td>126</td>\n",
       "      <td>28</td>\n",
       "      <td>2</td>\n",
       "    </tr>\n",
       "    <tr>\n",
       "      <th>197</th>\n",
       "      <td>198</td>\n",
       "      <td>Male</td>\n",
       "      <td>32</td>\n",
       "      <td>126</td>\n",
       "      <td>74</td>\n",
       "      <td>1</td>\n",
       "    </tr>\n",
       "    <tr>\n",
       "      <th>198</th>\n",
       "      <td>199</td>\n",
       "      <td>Male</td>\n",
       "      <td>32</td>\n",
       "      <td>137</td>\n",
       "      <td>18</td>\n",
       "      <td>2</td>\n",
       "    </tr>\n",
       "    <tr>\n",
       "      <th>199</th>\n",
       "      <td>200</td>\n",
       "      <td>Male</td>\n",
       "      <td>30</td>\n",
       "      <td>137</td>\n",
       "      <td>83</td>\n",
       "      <td>1</td>\n",
       "    </tr>\n",
       "  </tbody>\n",
       "</table>\n",
       "</div>"
      ],
      "text/plain": [
       "     CustomerID  Gender  Age  Annual Income (k$)  Spending Score (1-100)  \\\n",
       "195         196  Female   35                 120                      79   \n",
       "196         197  Female   45                 126                      28   \n",
       "197         198    Male   32                 126                      74   \n",
       "198         199    Male   32                 137                      18   \n",
       "199         200    Male   30                 137                      83   \n",
       "\n",
       "     clust  \n",
       "195      1  \n",
       "196      2  \n",
       "197      1  \n",
       "198      2  \n",
       "199      1  "
      ]
     },
     "execution_count": 30,
     "metadata": {},
     "output_type": "execute_result"
    }
   ],
   "source": [
    "data.tail()"
   ]
  },
  {
   "cell_type": "markdown",
   "id": "24f63159",
   "metadata": {},
   "source": [
    "## Add the cluster data with primary dataset"
   ]
  },
  {
   "cell_type": "code",
   "execution_count": 31,
   "id": "be6f4a7e",
   "metadata": {},
   "outputs": [],
   "source": [
    "data.to_csv('Kmeans_cluster.csv', encoding='utf-8')"
   ]
  },
  {
   "cell_type": "code",
   "execution_count": 32,
   "id": "bf71ab4d",
   "metadata": {},
   "outputs": [
    {
     "data": {
      "text/plain": [
       "'D:\\\\nalaiyathiran'"
      ]
     },
     "execution_count": 32,
     "metadata": {},
     "output_type": "execute_result"
    }
   ],
   "source": [
    "import os\n",
    "os.getcwd()"
   ]
  },
  {
   "cell_type": "markdown",
   "id": "2b108c66",
   "metadata": {},
   "source": [
    "## split the data into dependent and independent variables"
   ]
  },
  {
   "cell_type": "code",
   "execution_count": 33,
   "id": "8eaee88e",
   "metadata": {},
   "outputs": [],
   "source": [
    "dataset = pd.read_csv('Kmeans_cluster.csv')"
   ]
  },
  {
   "cell_type": "code",
   "execution_count": 34,
   "id": "7ae2b7f2",
   "metadata": {},
   "outputs": [
    {
     "data": {
      "text/html": [
       "<div>\n",
       "<style scoped>\n",
       "    .dataframe tbody tr th:only-of-type {\n",
       "        vertical-align: middle;\n",
       "    }\n",
       "\n",
       "    .dataframe tbody tr th {\n",
       "        vertical-align: top;\n",
       "    }\n",
       "\n",
       "    .dataframe thead th {\n",
       "        text-align: right;\n",
       "    }\n",
       "</style>\n",
       "<table border=\"1\" class=\"dataframe\">\n",
       "  <thead>\n",
       "    <tr style=\"text-align: right;\">\n",
       "      <th></th>\n",
       "      <th>Unnamed: 0</th>\n",
       "      <th>CustomerID</th>\n",
       "      <th>Gender</th>\n",
       "      <th>Age</th>\n",
       "      <th>Annual Income (k$)</th>\n",
       "      <th>Spending Score (1-100)</th>\n",
       "      <th>clust</th>\n",
       "    </tr>\n",
       "  </thead>\n",
       "  <tbody>\n",
       "    <tr>\n",
       "      <th>0</th>\n",
       "      <td>0</td>\n",
       "      <td>1</td>\n",
       "      <td>Male</td>\n",
       "      <td>19</td>\n",
       "      <td>15</td>\n",
       "      <td>39</td>\n",
       "      <td>3</td>\n",
       "    </tr>\n",
       "    <tr>\n",
       "      <th>1</th>\n",
       "      <td>1</td>\n",
       "      <td>2</td>\n",
       "      <td>Male</td>\n",
       "      <td>21</td>\n",
       "      <td>15</td>\n",
       "      <td>81</td>\n",
       "      <td>3</td>\n",
       "    </tr>\n",
       "    <tr>\n",
       "      <th>2</th>\n",
       "      <td>2</td>\n",
       "      <td>3</td>\n",
       "      <td>Female</td>\n",
       "      <td>20</td>\n",
       "      <td>16</td>\n",
       "      <td>6</td>\n",
       "      <td>3</td>\n",
       "    </tr>\n",
       "    <tr>\n",
       "      <th>3</th>\n",
       "      <td>3</td>\n",
       "      <td>4</td>\n",
       "      <td>Female</td>\n",
       "      <td>23</td>\n",
       "      <td>16</td>\n",
       "      <td>77</td>\n",
       "      <td>3</td>\n",
       "    </tr>\n",
       "    <tr>\n",
       "      <th>4</th>\n",
       "      <td>4</td>\n",
       "      <td>5</td>\n",
       "      <td>Female</td>\n",
       "      <td>31</td>\n",
       "      <td>17</td>\n",
       "      <td>40</td>\n",
       "      <td>3</td>\n",
       "    </tr>\n",
       "  </tbody>\n",
       "</table>\n",
       "</div>"
      ],
      "text/plain": [
       "   Unnamed: 0  CustomerID  Gender  Age  Annual Income (k$)  \\\n",
       "0           0           1    Male   19                  15   \n",
       "1           1           2    Male   21                  15   \n",
       "2           2           3  Female   20                  16   \n",
       "3           3           4  Female   23                  16   \n",
       "4           4           5  Female   31                  17   \n",
       "\n",
       "   Spending Score (1-100)  clust  \n",
       "0                      39      3  \n",
       "1                      81      3  \n",
       "2                       6      3  \n",
       "3                      77      3  \n",
       "4                      40      3  "
      ]
     },
     "execution_count": 34,
     "metadata": {},
     "output_type": "execute_result"
    }
   ],
   "source": [
    "dataset.head()"
   ]
  },
  {
   "cell_type": "code",
   "execution_count": 35,
   "id": "b08a48c2",
   "metadata": {},
   "outputs": [],
   "source": [
    "dataset.drop(columns=['Unnamed: 0','CustomerID'],inplace=True)"
   ]
  },
  {
   "cell_type": "code",
   "execution_count": 36,
   "id": "eabaffc9",
   "metadata": {},
   "outputs": [
    {
     "data": {
      "text/html": [
       "<div>\n",
       "<style scoped>\n",
       "    .dataframe tbody tr th:only-of-type {\n",
       "        vertical-align: middle;\n",
       "    }\n",
       "\n",
       "    .dataframe tbody tr th {\n",
       "        vertical-align: top;\n",
       "    }\n",
       "\n",
       "    .dataframe thead th {\n",
       "        text-align: right;\n",
       "    }\n",
       "</style>\n",
       "<table border=\"1\" class=\"dataframe\">\n",
       "  <thead>\n",
       "    <tr style=\"text-align: right;\">\n",
       "      <th></th>\n",
       "      <th>Gender</th>\n",
       "      <th>Age</th>\n",
       "      <th>Annual Income (k$)</th>\n",
       "      <th>Spending Score (1-100)</th>\n",
       "      <th>clust</th>\n",
       "    </tr>\n",
       "  </thead>\n",
       "  <tbody>\n",
       "    <tr>\n",
       "      <th>0</th>\n",
       "      <td>Male</td>\n",
       "      <td>19</td>\n",
       "      <td>15</td>\n",
       "      <td>39</td>\n",
       "      <td>3</td>\n",
       "    </tr>\n",
       "    <tr>\n",
       "      <th>1</th>\n",
       "      <td>Male</td>\n",
       "      <td>21</td>\n",
       "      <td>15</td>\n",
       "      <td>81</td>\n",
       "      <td>3</td>\n",
       "    </tr>\n",
       "    <tr>\n",
       "      <th>2</th>\n",
       "      <td>Female</td>\n",
       "      <td>20</td>\n",
       "      <td>16</td>\n",
       "      <td>6</td>\n",
       "      <td>3</td>\n",
       "    </tr>\n",
       "    <tr>\n",
       "      <th>3</th>\n",
       "      <td>Female</td>\n",
       "      <td>23</td>\n",
       "      <td>16</td>\n",
       "      <td>77</td>\n",
       "      <td>3</td>\n",
       "    </tr>\n",
       "    <tr>\n",
       "      <th>4</th>\n",
       "      <td>Female</td>\n",
       "      <td>31</td>\n",
       "      <td>17</td>\n",
       "      <td>40</td>\n",
       "      <td>3</td>\n",
       "    </tr>\n",
       "  </tbody>\n",
       "</table>\n",
       "</div>"
      ],
      "text/plain": [
       "   Gender  Age  Annual Income (k$)  Spending Score (1-100)  clust\n",
       "0    Male   19                  15                      39      3\n",
       "1    Male   21                  15                      81      3\n",
       "2  Female   20                  16                       6      3\n",
       "3  Female   23                  16                      77      3\n",
       "4  Female   31                  17                      40      3"
      ]
     },
     "execution_count": 36,
     "metadata": {},
     "output_type": "execute_result"
    }
   ],
   "source": [
    "dataset.head()"
   ]
  },
  {
   "cell_type": "code",
   "execution_count": 37,
   "id": "9e8af439",
   "metadata": {},
   "outputs": [
    {
     "data": {
      "text/plain": [
       "0    65\n",
       "3    57\n",
       "1    40\n",
       "2    38\n",
       "Name: clust, dtype: int64"
      ]
     },
     "execution_count": 37,
     "metadata": {},
     "output_type": "execute_result"
    },
    {
     "data": {
      "image/png": "[encoded data removed]",
      "text/plain": [
       "<Figure size 432x288 with 1 Axes>"
      ]
     },
     "metadata": {
      "needs_background": "light"
     },
     "output_type": "display_data"
    }
   ],
   "source": [
    "sns.countplot(x=dataset['clust'] )\n",
    "dataset['clust'].value_counts()"
   ]
  },
  {
   "cell_type": "code",
   "execution_count": 38,
   "id": "f23dcc55",
   "metadata": {},
   "outputs": [
    {
     "data": {
      "text/plain": [
       "<seaborn.axisgrid.PairGrid at 0x1e0d712c0c8>"
      ]
     },
     "execution_count": 38,
     "metadata": {},
     "output_type": "execute_result"
    },
    {
     "data": {
      "image/png": "[encoded data removed]",
      "text/plain": [
       "<Figure size 720x720 with 20 Axes>"
      ]
     },
     "metadata": {
      "needs_background": "light"
     },
     "output_type": "display_data"
    }
   ],
   "source": [
    "sns.pairplot(dataset.iloc[:,:])"
   ]
  },
  {
   "cell_type": "code",
   "execution_count": 39,
   "id": "1d31e74f",
   "metadata": {},
   "outputs": [],
   "source": [
    "dataset['Gender'].replace({'Male' : 1,'Female' : 0 }, inplace=True)"
   ]
  },
  {
   "cell_type": "code",
   "execution_count": 40,
   "id": "a255da3f",
   "metadata": {},
   "outputs": [],
   "source": [
    "X = dataset.iloc[:,:-1]\n",
    "y = dataset['clust']"
   ]
  },
  {
   "cell_type": "code",
   "execution_count": 41,
   "id": "5622ec7d",
   "metadata": {},
   "outputs": [
    {
     "data": {
      "text/html": [
       "<div>\n",
       "<style scoped>\n",
       "    .dataframe tbody tr th:only-of-type {\n",
       "        vertical-align: middle;\n",
       "    }\n",
       "\n",
       "    .dataframe tbody tr th {\n",
       "        vertical-align: top;\n",
       "    }\n",
       "\n",
       "    .dataframe thead th {\n",
       "        text-align: right;\n",
       "    }\n",
       "</style>\n",
       "<table border=\"1\" class=\"dataframe\">\n",
       "  <thead>\n",
       "    <tr style=\"text-align: right;\">\n",
       "      <th></th>\n",
       "      <th>Gender</th>\n",
       "      <th>Age</th>\n",
       "      <th>Annual Income (k$)</th>\n",
       "      <th>Spending Score (1-100)</th>\n",
       "    </tr>\n",
       "  </thead>\n",
       "  <tbody>\n",
       "    <tr>\n",
       "      <th>0</th>\n",
       "      <td>1</td>\n",
       "      <td>19</td>\n",
       "      <td>15</td>\n",
       "      <td>39</td>\n",
       "    </tr>\n",
       "    <tr>\n",
       "      <th>1</th>\n",
       "      <td>1</td>\n",
       "      <td>21</td>\n",
       "      <td>15</td>\n",
       "      <td>81</td>\n",
       "    </tr>\n",
       "    <tr>\n",
       "      <th>2</th>\n",
       "      <td>0</td>\n",
       "      <td>20</td>\n",
       "      <td>16</td>\n",
       "      <td>6</td>\n",
       "    </tr>\n",
       "    <tr>\n",
       "      <th>3</th>\n",
       "      <td>0</td>\n",
       "      <td>23</td>\n",
       "      <td>16</td>\n",
       "      <td>77</td>\n",
       "    </tr>\n",
       "    <tr>\n",
       "      <th>4</th>\n",
       "      <td>0</td>\n",
       "      <td>31</td>\n",
       "      <td>17</td>\n",
       "      <td>40</td>\n",
       "    </tr>\n",
       "    <tr>\n",
       "      <th>...</th>\n",
       "      <td>...</td>\n",
       "      <td>...</td>\n",
       "      <td>...</td>\n",
       "      <td>...</td>\n",
       "    </tr>\n",
       "    <tr>\n",
       "      <th>195</th>\n",
       "      <td>0</td>\n",
       "      <td>35</td>\n",
       "      <td>120</td>\n",
       "      <td>79</td>\n",
       "    </tr>\n",
       "    <tr>\n",
       "      <th>196</th>\n",
       "      <td>0</td>\n",
       "      <td>45</td>\n",
       "      <td>126</td>\n",
       "      <td>28</td>\n",
       "    </tr>\n",
       "    <tr>\n",
       "      <th>197</th>\n",
       "      <td>1</td>\n",
       "      <td>32</td>\n",
       "      <td>126</td>\n",
       "      <td>74</td>\n",
       "    </tr>\n",
       "    <tr>\n",
       "      <th>198</th>\n",
       "      <td>1</td>\n",
       "      <td>32</td>\n",
       "      <td>137</td>\n",
       "      <td>18</td>\n",
       "    </tr>\n",
       "    <tr>\n",
       "      <th>199</th>\n",
       "      <td>1</td>\n",
       "      <td>30</td>\n",
       "      <td>137</td>\n",
       "      <td>83</td>\n",
       "    </tr>\n",
       "  </tbody>\n",
       "</table>\n",
       "<p>200 rows × 4 columns</p>\n",
       "</div>"
      ],
      "text/plain": [
       "     Gender  Age  Annual Income (k$)  Spending Score (1-100)\n",
       "0         1   19                  15                      39\n",
       "1         1   21                  15                      81\n",
       "2         0   20                  16                       6\n",
       "3         0   23                  16                      77\n",
       "4         0   31                  17                      40\n",
       "..      ...  ...                 ...                     ...\n",
       "195       0   35                 120                      79\n",
       "196       0   45                 126                      28\n",
       "197       1   32                 126                      74\n",
       "198       1   32                 137                      18\n",
       "199       1   30                 137                      83\n",
       "\n",
       "[200 rows x 4 columns]"
      ]
     },
     "execution_count": 41,
     "metadata": {},
     "output_type": "execute_result"
    }
   ],
   "source": [
    "X"
   ]
  },
  {
   "cell_type": "code",
   "execution_count": 42,
   "id": "e3ccc222",
   "metadata": {},
   "outputs": [
    {
     "data": {
      "text/plain": [
       "0      3\n",
       "1      3\n",
       "2      3\n",
       "3      3\n",
       "4      3\n",
       "      ..\n",
       "195    1\n",
       "196    2\n",
       "197    1\n",
       "198    2\n",
       "199    1\n",
       "Name: clust, Length: 200, dtype: int64"
      ]
     },
     "execution_count": 42,
     "metadata": {},
     "output_type": "execute_result"
    }
   ],
   "source": [
    "y"
   ]
  },
  {
   "cell_type": "markdown",
   "id": "798113d9",
   "metadata": {},
   "source": [
    "## split the data into training and testing"
   ]
  },
  {
   "cell_type": "code",
   "execution_count": 43,
   "id": "0bad4451",
   "metadata": {},
   "outputs": [],
   "source": [
    "from sklearn.model_selection import train_test_split\n",
    "X_train, X_test, y_train, y_test = train_test_split(X,y,test_size=0.2)"
   ]
  },
  {
   "cell_type": "markdown",
   "id": "34693a0f",
   "metadata": {},
   "source": [
    "## Build and train the model "
   ]
  },
  {
   "cell_type": "markdown",
   "id": "9f945556",
   "metadata": {},
   "source": [
    "### Logistic Regression"
   ]
  },
  {
   "cell_type": "code",
   "execution_count": 44,
   "id": "638c8833",
   "metadata": {},
   "outputs": [
    {
     "name": "stderr",
     "output_type": "stream",
     "text": [
      "c:\\users\\micro\\appdata\\local\\programs\\python\\python37\\lib\\site-packages\\sklearn\\linear_model\\_logistic.py:818: ConvergenceWarning: lbfgs failed to converge (status=1):\n",
      "STOP: TOTAL NO. of ITERATIONS REACHED LIMIT.\n",
      "\n",
      "Increase the number of iterations (max_iter) or scale the data as shown in:\n",
      "    https://scikit-learn.org/stable/modules/preprocessing.html\n",
      "Please also refer to the documentation for alternative solver options:\n",
      "    https://scikit-learn.org/stable/modules/linear_model.html#logistic-regression\n",
      "  extra_warning_msg=_LOGISTIC_SOLVER_CONVERGENCE_MSG,\n"
     ]
    },
    {
     "data": {
      "text/plain": [
       "LogisticRegression()"
      ]
     },
     "execution_count": 44,
     "metadata": {},
     "output_type": "execute_result"
    }
   ],
   "source": [
    "from sklearn.linear_model import LogisticRegression\n",
    "reg = LogisticRegression()\n",
    "reg.fit(X_train, y_train)\n"
   ]
  },
  {
   "cell_type": "markdown",
   "id": "5e4424b6",
   "metadata": {},
   "source": [
    "## Test the model"
   ]
  },
  {
   "cell_type": "code",
   "execution_count": 45,
   "id": "025c4168",
   "metadata": {},
   "outputs": [
    {
     "data": {
      "text/plain": [
       "array([1, 0, 1, 2, 0, 0, 0, 1, 3, 0, 2, 3, 0, 2, 2, 0, 3, 1, 3, 0, 0, 3,\n",
       "       3, 3, 3, 0, 0, 1, 3, 0, 2, 3, 2, 2, 3, 0, 3, 3, 1, 1], dtype=int64)"
      ]
     },
     "execution_count": 45,
     "metadata": {},
     "output_type": "execute_result"
    }
   ],
   "source": [
    "log_pred = reg.predict(X_test)\n",
    "log_pred"
   ]
  },
  {
   "cell_type": "markdown",
   "id": "672b8611",
   "metadata": {},
   "source": [
    "## Measure the performance using evaluation metrics"
   ]
  },
  {
   "cell_type": "code",
   "execution_count": 46,
   "id": "1fc4c164",
   "metadata": {},
   "outputs": [
    {
     "data": {
      "text/plain": [
       "array([[13,  0,  0,  0],\n",
       "       [ 0,  7,  0,  0],\n",
       "       [ 0,  0,  7,  0],\n",
       "       [ 0,  0,  0, 13]], dtype=int64)"
      ]
     },
     "execution_count": 46,
     "metadata": {},
     "output_type": "execute_result"
    }
   ],
   "source": [
    "from sklearn import metrics\n",
    "metrics.confusion_matrix(y_test,log_pred)"
   ]
  },
  {
   "cell_type": "code",
   "execution_count": 47,
   "id": "72177111",
   "metadata": {},
   "outputs": [
    {
     "data": {
      "text/plain": [
       "1.0"
      ]
     },
     "execution_count": 47,
     "metadata": {},
     "output_type": "execute_result"
    }
   ],
   "source": [
    "metrics.accuracy_score(y_test, log_pred)"
   ]
  },
  {
   "cell_type": "markdown",
   "id": "ef09045f",
   "metadata": {},
   "source": [
    "### Decision Tree classifier"
   ]
  },
  {
   "cell_type": "code",
   "execution_count": 48,
   "id": "88080e0c",
   "metadata": {},
   "outputs": [],
   "source": [
    "from sklearn.tree import DecisionTreeClassifier\n",
    "model = DecisionTreeClassifier()\n",
    "model.fit(X_train,y_train)\n",
    "\n",
    "dtree_pred = model.predict(X_test)"
   ]
  },
  {
   "cell_type": "code",
   "execution_count": 49,
   "id": "41794f0d",
   "metadata": {},
   "outputs": [
    {
     "data": {
      "text/plain": [
       "0.975"
      ]
     },
     "execution_count": 49,
     "metadata": {},
     "output_type": "execute_result"
    }
   ],
   "source": [
    "from sklearn.metrics import accuracy_score,confusion_matrix\n",
    "accuracy_score(y_test, dtree_pred)"
   ]
  },
  {
   "cell_type": "code",
   "execution_count": 50,
   "id": "d9e07301",
   "metadata": {},
   "outputs": [
    {
     "data": {
      "text/plain": [
       "array([[12,  0,  1,  0],\n",
       "       [ 0,  7,  0,  0],\n",
       "       [ 0,  0,  7,  0],\n",
       "       [ 0,  0,  0, 13]], dtype=int64)"
      ]
     },
     "execution_count": 50,
     "metadata": {},
     "output_type": "execute_result"
    }
   ],
   "source": [
    "confusion_matrix(y_test, dtree_pred)"
   ]
  },
  {
   "cell_type": "markdown",
   "id": "7daa6ece",
   "metadata": {},
   "source": [
    "### Random forest classifier"
   ]
  },
  {
   "cell_type": "code",
   "execution_count": 51,
   "id": "66e15ec4",
   "metadata": {},
   "outputs": [
    {
     "data": {
      "text/plain": [
       "array([1, 0, 1, 2, 0, 0, 0, 1, 3, 0, 2, 3, 0, 2, 2, 0, 3, 1, 3, 0, 0, 3,\n",
       "       3, 3, 3, 0, 0, 1, 3, 2, 2, 3, 2, 2, 3, 0, 3, 3, 1, 1], dtype=int64)"
      ]
     },
     "execution_count": 51,
     "metadata": {},
     "output_type": "execute_result"
    }
   ],
   "source": [
    "from sklearn.ensemble import RandomForestClassifier\n",
    "rf = RandomForestClassifier()\n",
    "rf.fit(X_train,y_train)\n",
    "\n",
    "rf_pred = rf.predict(X_test)\n",
    "rf_pred"
   ]
  },
  {
   "cell_type": "code",
   "execution_count": 52,
   "id": "5221a77e",
   "metadata": {},
   "outputs": [
    {
     "data": {
      "text/plain": [
       "0.975"
      ]
     },
     "execution_count": 52,
     "metadata": {},
     "output_type": "execute_result"
    }
   ],
   "source": [
    "accuracy_score(y_test, rf_pred)"
   ]
  },
  {
   "cell_type": "code",
   "execution_count": 53,
   "id": "f292d67b",
   "metadata": {},
   "outputs": [
    {
     "data": {
      "text/plain": [
       "array([[12,  0,  1,  0],\n",
       "       [ 0,  7,  0,  0],\n",
       "       [ 0,  0,  7,  0],\n",
       "       [ 0,  0,  0, 13]], dtype=int64)"
      ]
     },
     "execution_count": 53,
     "metadata": {},
     "output_type": "execute_result"
    }
   ],
   "source": [
    "confusion_matrix(y_test,rf_pred)"
   ]
  },
  {
   "cell_type": "markdown",
   "id": "d580ffdc",
   "metadata": {},
   "source": [
    "### KNeighbors classifier"
   ]
  },
  {
   "cell_type": "code",
   "execution_count": 54,
   "id": "16e22cfc",
   "metadata": {},
   "outputs": [
    {
     "data": {
      "text/plain": [
       "array([1, 0, 0, 2, 0, 0, 0, 1, 3, 0, 2, 3, 0, 2, 2, 0, 3, 1, 3, 0, 0, 3,\n",
       "       3, 3, 3, 0, 0, 1, 3, 2, 2, 3, 2, 2, 3, 0, 3, 3, 1, 1], dtype=int64)"
      ]
     },
     "execution_count": 54,
     "metadata": {},
     "output_type": "execute_result"
    }
   ],
   "source": [
    "from sklearn.neighbors import KNeighborsClassifier\n",
    "knn = KNeighborsClassifier(n_neighbors=5)\n",
    "knn.fit(X_train,y_train)\n",
    "\n",
    "knn_pred = knn.predict(X_test)\n",
    "knn_pred"
   ]
  },
  {
   "cell_type": "code",
   "execution_count": 55,
   "id": "220ff755",
   "metadata": {},
   "outputs": [
    {
     "data": {
      "text/plain": [
       "0.95"
      ]
     },
     "execution_count": 55,
     "metadata": {},
     "output_type": "execute_result"
    }
   ],
   "source": [
    "accuracy_score(y_test,knn_pred)"
   ]
  },
  {
   "cell_type": "code",
   "execution_count": 56,
   "id": "962672f6",
   "metadata": {},
   "outputs": [
    {
     "data": {
      "text/plain": [
       "array([[12,  0,  1,  0],\n",
       "       [ 1,  6,  0,  0],\n",
       "       [ 0,  0,  7,  0],\n",
       "       [ 0,  0,  0, 13]], dtype=int64)"
      ]
     },
     "execution_count": 56,
     "metadata": {},
     "output_type": "execute_result"
    }
   ],
   "source": [
    "confusion_matrix(y_test,knn_pred)"
   ]
  }
 ],
 "metadata": {
  "kernelspec": {
   "display_name": "Python 3 (ipykernel)",
   "language": "python",
   "name": "python3"
  },
  "language_info": {
   "codemirror_mode": {
    "name": "ipython",
    "version": 3
   },
   "file_extension": ".py",
   "mimetype": "text/x-python",
   "name": "python",
   "nbconvert_exporter": "python",
   "pygments_lexer": "ipython3",
   "version": "3.9.7"
  }
 },
 "nbformat": 4,
 "nbformat_minor": 5
}
